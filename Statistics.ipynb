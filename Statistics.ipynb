{
 "cells": [
  {
   "cell_type": "code",
   "execution_count": 29,
   "id": "7711814a",
   "metadata": {},
   "outputs": [],
   "source": [
    "import pandas as pd\n",
    "import statistics\n",
    "import numpy as np\n",
    "import matplotlib.pyplot as plt\n",
    "%matplotlib inline\n",
    "import seaborn as sns\n",
    "from pandas.plotting import scatter_matrix\n",
    "import scipy\n",
    "from scipy import stats"
   ]
  },
  {
   "cell_type": "code",
   "execution_count": 81,
   "id": "097e006b",
   "metadata": {},
   "outputs": [
    {
     "name": "stdout",
     "output_type": "stream",
     "text": [
      "Requirement already satisfied: scipy in c:\\users\\pereira\\anaconda3\\lib\\site-packages (1.7.1)\n",
      "Requirement already satisfied: numpy<1.23.0,>=1.16.5 in c:\\users\\pereira\\anaconda3\\lib\\site-packages (from scipy) (1.20.3)\n",
      "Note: you may need to restart the kernel to use updated packages.\n"
     ]
    }
   ],
   "source": [
    "pip install scipy"
   ]
  },
  {
   "cell_type": "markdown",
   "id": "d2fd44e9",
   "metadata": {},
   "source": [
    "#**S06 T01**#"
   ]
  },
  {
   "cell_type": "markdown",
   "id": "2e27cf54",
   "metadata": {},
   "source": [
    "##*Exercice 1*##"
   ]
  },
  {
   "cell_type": "markdown",
   "id": "e56bbc1c",
   "metadata": {},
   "source": [
    "*Agafa un conjunt de dades de tema esportiu que t'agradi i selecciona un atribut del conjunt de dades. Calcula la moda, la mediana, la desviació estàndard i la mitjana aritmètica. *"
   ]
  },
  {
   "cell_type": "code",
   "execution_count": 2,
   "id": "499dfdb3",
   "metadata": {},
   "outputs": [
    {
     "data": {
      "text/html": [
       "<div>\n",
       "<style scoped>\n",
       "    .dataframe tbody tr th:only-of-type {\n",
       "        vertical-align: middle;\n",
       "    }\n",
       "\n",
       "    .dataframe tbody tr th {\n",
       "        vertical-align: top;\n",
       "    }\n",
       "\n",
       "    .dataframe thead th {\n",
       "        text-align: right;\n",
       "    }\n",
       "</style>\n",
       "<table border=\"1\" class=\"dataframe\">\n",
       "  <thead>\n",
       "    <tr style=\"text-align: right;\">\n",
       "      <th></th>\n",
       "      <th>driverId</th>\n",
       "      <th>driverRef</th>\n",
       "      <th>number</th>\n",
       "      <th>code</th>\n",
       "      <th>forename</th>\n",
       "      <th>surname</th>\n",
       "      <th>dob</th>\n",
       "      <th>nationality</th>\n",
       "      <th>url</th>\n",
       "    </tr>\n",
       "  </thead>\n",
       "  <tbody>\n",
       "    <tr>\n",
       "      <th>0</th>\n",
       "      <td>1</td>\n",
       "      <td>hamilton</td>\n",
       "      <td>44</td>\n",
       "      <td>HAM</td>\n",
       "      <td>Lewis</td>\n",
       "      <td>Hamilton</td>\n",
       "      <td>1985-01-07</td>\n",
       "      <td>British</td>\n",
       "      <td>http://en.wikipedia.org/wiki/Lewis_Hamilton</td>\n",
       "    </tr>\n",
       "    <tr>\n",
       "      <th>1</th>\n",
       "      <td>2</td>\n",
       "      <td>heidfeld</td>\n",
       "      <td>\\N</td>\n",
       "      <td>HEI</td>\n",
       "      <td>Nick</td>\n",
       "      <td>Heidfeld</td>\n",
       "      <td>1977-05-10</td>\n",
       "      <td>German</td>\n",
       "      <td>http://en.wikipedia.org/wiki/Nick_Heidfeld</td>\n",
       "    </tr>\n",
       "    <tr>\n",
       "      <th>2</th>\n",
       "      <td>3</td>\n",
       "      <td>rosberg</td>\n",
       "      <td>6</td>\n",
       "      <td>ROS</td>\n",
       "      <td>Nico</td>\n",
       "      <td>Rosberg</td>\n",
       "      <td>1985-06-27</td>\n",
       "      <td>German</td>\n",
       "      <td>http://en.wikipedia.org/wiki/Nico_Rosberg</td>\n",
       "    </tr>\n",
       "    <tr>\n",
       "      <th>3</th>\n",
       "      <td>4</td>\n",
       "      <td>alonso</td>\n",
       "      <td>14</td>\n",
       "      <td>ALO</td>\n",
       "      <td>Fernando</td>\n",
       "      <td>Alonso</td>\n",
       "      <td>1981-07-29</td>\n",
       "      <td>Spanish</td>\n",
       "      <td>http://en.wikipedia.org/wiki/Fernando_Alonso</td>\n",
       "    </tr>\n",
       "    <tr>\n",
       "      <th>4</th>\n",
       "      <td>5</td>\n",
       "      <td>kovalainen</td>\n",
       "      <td>\\N</td>\n",
       "      <td>KOV</td>\n",
       "      <td>Heikki</td>\n",
       "      <td>Kovalainen</td>\n",
       "      <td>1981-10-19</td>\n",
       "      <td>Finnish</td>\n",
       "      <td>http://en.wikipedia.org/wiki/Heikki_Kovalainen</td>\n",
       "    </tr>\n",
       "    <tr>\n",
       "      <th>...</th>\n",
       "      <td>...</td>\n",
       "      <td>...</td>\n",
       "      <td>...</td>\n",
       "      <td>...</td>\n",
       "      <td>...</td>\n",
       "      <td>...</td>\n",
       "      <td>...</td>\n",
       "      <td>...</td>\n",
       "      <td>...</td>\n",
       "    </tr>\n",
       "    <tr>\n",
       "      <th>849</th>\n",
       "      <td>851</td>\n",
       "      <td>aitken</td>\n",
       "      <td>89</td>\n",
       "      <td>AIT</td>\n",
       "      <td>Jack</td>\n",
       "      <td>Aitken</td>\n",
       "      <td>1995-09-23</td>\n",
       "      <td>British</td>\n",
       "      <td>http://en.wikipedia.org/wiki/Jack_Aitken</td>\n",
       "    </tr>\n",
       "    <tr>\n",
       "      <th>850</th>\n",
       "      <td>852</td>\n",
       "      <td>tsunoda</td>\n",
       "      <td>22</td>\n",
       "      <td>TSU</td>\n",
       "      <td>Yuki</td>\n",
       "      <td>Tsunoda</td>\n",
       "      <td>2000-05-11</td>\n",
       "      <td>Japanese</td>\n",
       "      <td>http://en.wikipedia.org/wiki/Yuki_Tsunoda</td>\n",
       "    </tr>\n",
       "    <tr>\n",
       "      <th>851</th>\n",
       "      <td>853</td>\n",
       "      <td>mazepin</td>\n",
       "      <td>9</td>\n",
       "      <td>MAZ</td>\n",
       "      <td>Nikita</td>\n",
       "      <td>Mazepin</td>\n",
       "      <td>1999-03-02</td>\n",
       "      <td>Russian</td>\n",
       "      <td>http://en.wikipedia.org/wiki/Nikita_Mazepin</td>\n",
       "    </tr>\n",
       "    <tr>\n",
       "      <th>852</th>\n",
       "      <td>854</td>\n",
       "      <td>mick_schumacher</td>\n",
       "      <td>47</td>\n",
       "      <td>MSC</td>\n",
       "      <td>Mick</td>\n",
       "      <td>Schumacher</td>\n",
       "      <td>1999-03-22</td>\n",
       "      <td>German</td>\n",
       "      <td>http://en.wikipedia.org/wiki/Mick_Schumacher</td>\n",
       "    </tr>\n",
       "    <tr>\n",
       "      <th>853</th>\n",
       "      <td>855</td>\n",
       "      <td>zhou</td>\n",
       "      <td>24</td>\n",
       "      <td>ZHO</td>\n",
       "      <td>Guanyu</td>\n",
       "      <td>Zhou</td>\n",
       "      <td>1999-05-30</td>\n",
       "      <td>Chinese</td>\n",
       "      <td>http://en.wikipedia.org/wiki/Guanyu_Zhou</td>\n",
       "    </tr>\n",
       "  </tbody>\n",
       "</table>\n",
       "<p>854 rows × 9 columns</p>\n",
       "</div>"
      ],
      "text/plain": [
       "     driverId        driverRef number code  forename     surname         dob  \\\n",
       "0           1         hamilton     44  HAM     Lewis    Hamilton  1985-01-07   \n",
       "1           2         heidfeld     \\N  HEI      Nick    Heidfeld  1977-05-10   \n",
       "2           3          rosberg      6  ROS      Nico     Rosberg  1985-06-27   \n",
       "3           4           alonso     14  ALO  Fernando      Alonso  1981-07-29   \n",
       "4           5       kovalainen     \\N  KOV    Heikki  Kovalainen  1981-10-19   \n",
       "..        ...              ...    ...  ...       ...         ...         ...   \n",
       "849       851           aitken     89  AIT      Jack      Aitken  1995-09-23   \n",
       "850       852          tsunoda     22  TSU      Yuki     Tsunoda  2000-05-11   \n",
       "851       853          mazepin      9  MAZ    Nikita     Mazepin  1999-03-02   \n",
       "852       854  mick_schumacher     47  MSC      Mick  Schumacher  1999-03-22   \n",
       "853       855             zhou     24  ZHO    Guanyu        Zhou  1999-05-30   \n",
       "\n",
       "    nationality                                             url  \n",
       "0       British     http://en.wikipedia.org/wiki/Lewis_Hamilton  \n",
       "1        German      http://en.wikipedia.org/wiki/Nick_Heidfeld  \n",
       "2        German       http://en.wikipedia.org/wiki/Nico_Rosberg  \n",
       "3       Spanish    http://en.wikipedia.org/wiki/Fernando_Alonso  \n",
       "4       Finnish  http://en.wikipedia.org/wiki/Heikki_Kovalainen  \n",
       "..          ...                                             ...  \n",
       "849     British        http://en.wikipedia.org/wiki/Jack_Aitken  \n",
       "850    Japanese       http://en.wikipedia.org/wiki/Yuki_Tsunoda  \n",
       "851     Russian     http://en.wikipedia.org/wiki/Nikita_Mazepin  \n",
       "852      German    http://en.wikipedia.org/wiki/Mick_Schumacher  \n",
       "853     Chinese        http://en.wikipedia.org/wiki/Guanyu_Zhou  \n",
       "\n",
       "[854 rows x 9 columns]"
      ]
     },
     "execution_count": 2,
     "metadata": {},
     "output_type": "execute_result"
    }
   ],
   "source": [
    "drivers = pd.read_csv(r'C:\\Users\\Pereira\\Documents\\IT Academy\\S05T01\\drivers.csv', sep = ',', encoding = 'utf-8')\n",
    "drivers"
   ]
  },
  {
   "cell_type": "code",
   "execution_count": 3,
   "id": "5b04e41b",
   "metadata": {},
   "outputs": [
    {
     "data": {
      "text/html": [
       "<div>\n",
       "<style scoped>\n",
       "    .dataframe tbody tr th:only-of-type {\n",
       "        vertical-align: middle;\n",
       "    }\n",
       "\n",
       "    .dataframe tbody tr th {\n",
       "        vertical-align: top;\n",
       "    }\n",
       "\n",
       "    .dataframe thead th {\n",
       "        text-align: right;\n",
       "    }\n",
       "</style>\n",
       "<table border=\"1\" class=\"dataframe\">\n",
       "  <thead>\n",
       "    <tr style=\"text-align: right;\">\n",
       "      <th></th>\n",
       "      <th>driverId</th>\n",
       "      <th>driverRef</th>\n",
       "      <th>number</th>\n",
       "      <th>code</th>\n",
       "      <th>forename</th>\n",
       "      <th>surname</th>\n",
       "      <th>dob</th>\n",
       "      <th>nationality</th>\n",
       "    </tr>\n",
       "  </thead>\n",
       "  <tbody>\n",
       "    <tr>\n",
       "      <th>0</th>\n",
       "      <td>1</td>\n",
       "      <td>hamilton</td>\n",
       "      <td>44</td>\n",
       "      <td>HAM</td>\n",
       "      <td>Lewis</td>\n",
       "      <td>Hamilton</td>\n",
       "      <td>1985-01-07</td>\n",
       "      <td>British</td>\n",
       "    </tr>\n",
       "    <tr>\n",
       "      <th>1</th>\n",
       "      <td>2</td>\n",
       "      <td>heidfeld</td>\n",
       "      <td>\\N</td>\n",
       "      <td>HEI</td>\n",
       "      <td>Nick</td>\n",
       "      <td>Heidfeld</td>\n",
       "      <td>1977-05-10</td>\n",
       "      <td>German</td>\n",
       "    </tr>\n",
       "    <tr>\n",
       "      <th>2</th>\n",
       "      <td>3</td>\n",
       "      <td>rosberg</td>\n",
       "      <td>6</td>\n",
       "      <td>ROS</td>\n",
       "      <td>Nico</td>\n",
       "      <td>Rosberg</td>\n",
       "      <td>1985-06-27</td>\n",
       "      <td>German</td>\n",
       "    </tr>\n",
       "    <tr>\n",
       "      <th>3</th>\n",
       "      <td>4</td>\n",
       "      <td>alonso</td>\n",
       "      <td>14</td>\n",
       "      <td>ALO</td>\n",
       "      <td>Fernando</td>\n",
       "      <td>Alonso</td>\n",
       "      <td>1981-07-29</td>\n",
       "      <td>Spanish</td>\n",
       "    </tr>\n",
       "    <tr>\n",
       "      <th>4</th>\n",
       "      <td>5</td>\n",
       "      <td>kovalainen</td>\n",
       "      <td>\\N</td>\n",
       "      <td>KOV</td>\n",
       "      <td>Heikki</td>\n",
       "      <td>Kovalainen</td>\n",
       "      <td>1981-10-19</td>\n",
       "      <td>Finnish</td>\n",
       "    </tr>\n",
       "    <tr>\n",
       "      <th>...</th>\n",
       "      <td>...</td>\n",
       "      <td>...</td>\n",
       "      <td>...</td>\n",
       "      <td>...</td>\n",
       "      <td>...</td>\n",
       "      <td>...</td>\n",
       "      <td>...</td>\n",
       "      <td>...</td>\n",
       "    </tr>\n",
       "    <tr>\n",
       "      <th>849</th>\n",
       "      <td>851</td>\n",
       "      <td>aitken</td>\n",
       "      <td>89</td>\n",
       "      <td>AIT</td>\n",
       "      <td>Jack</td>\n",
       "      <td>Aitken</td>\n",
       "      <td>1995-09-23</td>\n",
       "      <td>British</td>\n",
       "    </tr>\n",
       "    <tr>\n",
       "      <th>850</th>\n",
       "      <td>852</td>\n",
       "      <td>tsunoda</td>\n",
       "      <td>22</td>\n",
       "      <td>TSU</td>\n",
       "      <td>Yuki</td>\n",
       "      <td>Tsunoda</td>\n",
       "      <td>2000-05-11</td>\n",
       "      <td>Japanese</td>\n",
       "    </tr>\n",
       "    <tr>\n",
       "      <th>851</th>\n",
       "      <td>853</td>\n",
       "      <td>mazepin</td>\n",
       "      <td>9</td>\n",
       "      <td>MAZ</td>\n",
       "      <td>Nikita</td>\n",
       "      <td>Mazepin</td>\n",
       "      <td>1999-03-02</td>\n",
       "      <td>Russian</td>\n",
       "    </tr>\n",
       "    <tr>\n",
       "      <th>852</th>\n",
       "      <td>854</td>\n",
       "      <td>mick_schumacher</td>\n",
       "      <td>47</td>\n",
       "      <td>MSC</td>\n",
       "      <td>Mick</td>\n",
       "      <td>Schumacher</td>\n",
       "      <td>1999-03-22</td>\n",
       "      <td>German</td>\n",
       "    </tr>\n",
       "    <tr>\n",
       "      <th>853</th>\n",
       "      <td>855</td>\n",
       "      <td>zhou</td>\n",
       "      <td>24</td>\n",
       "      <td>ZHO</td>\n",
       "      <td>Guanyu</td>\n",
       "      <td>Zhou</td>\n",
       "      <td>1999-05-30</td>\n",
       "      <td>Chinese</td>\n",
       "    </tr>\n",
       "  </tbody>\n",
       "</table>\n",
       "<p>854 rows × 8 columns</p>\n",
       "</div>"
      ],
      "text/plain": [
       "     driverId        driverRef number code  forename     surname         dob  \\\n",
       "0           1         hamilton     44  HAM     Lewis    Hamilton  1985-01-07   \n",
       "1           2         heidfeld     \\N  HEI      Nick    Heidfeld  1977-05-10   \n",
       "2           3          rosberg      6  ROS      Nico     Rosberg  1985-06-27   \n",
       "3           4           alonso     14  ALO  Fernando      Alonso  1981-07-29   \n",
       "4           5       kovalainen     \\N  KOV    Heikki  Kovalainen  1981-10-19   \n",
       "..        ...              ...    ...  ...       ...         ...         ...   \n",
       "849       851           aitken     89  AIT      Jack      Aitken  1995-09-23   \n",
       "850       852          tsunoda     22  TSU      Yuki     Tsunoda  2000-05-11   \n",
       "851       853          mazepin      9  MAZ    Nikita     Mazepin  1999-03-02   \n",
       "852       854  mick_schumacher     47  MSC      Mick  Schumacher  1999-03-22   \n",
       "853       855             zhou     24  ZHO    Guanyu        Zhou  1999-05-30   \n",
       "\n",
       "    nationality  \n",
       "0       British  \n",
       "1        German  \n",
       "2        German  \n",
       "3       Spanish  \n",
       "4       Finnish  \n",
       "..          ...  \n",
       "849     British  \n",
       "850    Japanese  \n",
       "851     Russian  \n",
       "852      German  \n",
       "853     Chinese  \n",
       "\n",
       "[854 rows x 8 columns]"
      ]
     },
     "execution_count": 3,
     "metadata": {},
     "output_type": "execute_result"
    }
   ],
   "source": [
    "drivers.drop(columns = ['url'], inplace=True)\n",
    "drivers"
   ]
  },
  {
   "cell_type": "markdown",
   "id": "35352762",
   "metadata": {},
   "source": [
    "El dataset sobre pilots de F1 contenia 9 columnes: un Id del pilot, la referència del pilot, el número de dorsal que porta al cotxe, el codi (les sigles per les que es coneix), el nom, el cognom, el dia de naixement, la nacionalitat i una url que ens envia a la wikipedia del pilot en concret. Esborrem aquesta última columna perquè no ens aporta cap informació útil per aquest anàlisi."
   ]
  },
  {
   "cell_type": "markdown",
   "id": "9cc5f916",
   "metadata": {},
   "source": [
    "Calculem la moda amb la funció mode de statistics, sobre la columna nacionalitat. Ens dona la nacionalitat que més es repeteix en el dataset, britànica."
   ]
  },
  {
   "cell_type": "code",
   "execution_count": 4,
   "id": "bd37cebb",
   "metadata": {},
   "outputs": [
    {
     "data": {
      "text/plain": [
       "'British'"
      ]
     },
     "execution_count": 4,
     "metadata": {},
     "output_type": "execute_result"
    }
   ],
   "source": [
    "statistics.mode(drivers[\"nationality\"])"
   ]
  },
  {
   "cell_type": "markdown",
   "id": "b91e9719",
   "metadata": {},
   "source": [
    "Separem la columna del dia de naixement per quedar-nos només amb l'any de naixement, que és la dada important."
   ]
  },
  {
   "cell_type": "code",
   "execution_count": 5,
   "id": "5c0bf5fb",
   "metadata": {},
   "outputs": [
    {
     "data": {
      "text/html": [
       "<div>\n",
       "<style scoped>\n",
       "    .dataframe tbody tr th:only-of-type {\n",
       "        vertical-align: middle;\n",
       "    }\n",
       "\n",
       "    .dataframe tbody tr th {\n",
       "        vertical-align: top;\n",
       "    }\n",
       "\n",
       "    .dataframe thead th {\n",
       "        text-align: right;\n",
       "    }\n",
       "</style>\n",
       "<table border=\"1\" class=\"dataframe\">\n",
       "  <thead>\n",
       "    <tr style=\"text-align: right;\">\n",
       "      <th></th>\n",
       "      <th>driverId</th>\n",
       "      <th>driverRef</th>\n",
       "      <th>number</th>\n",
       "      <th>code</th>\n",
       "      <th>forename</th>\n",
       "      <th>surname</th>\n",
       "      <th>nationality</th>\n",
       "      <th>yob</th>\n",
       "    </tr>\n",
       "  </thead>\n",
       "  <tbody>\n",
       "    <tr>\n",
       "      <th>0</th>\n",
       "      <td>1</td>\n",
       "      <td>hamilton</td>\n",
       "      <td>44</td>\n",
       "      <td>HAM</td>\n",
       "      <td>Lewis</td>\n",
       "      <td>Hamilton</td>\n",
       "      <td>British</td>\n",
       "      <td>1985</td>\n",
       "    </tr>\n",
       "    <tr>\n",
       "      <th>1</th>\n",
       "      <td>2</td>\n",
       "      <td>heidfeld</td>\n",
       "      <td>\\N</td>\n",
       "      <td>HEI</td>\n",
       "      <td>Nick</td>\n",
       "      <td>Heidfeld</td>\n",
       "      <td>German</td>\n",
       "      <td>1977</td>\n",
       "    </tr>\n",
       "    <tr>\n",
       "      <th>2</th>\n",
       "      <td>3</td>\n",
       "      <td>rosberg</td>\n",
       "      <td>6</td>\n",
       "      <td>ROS</td>\n",
       "      <td>Nico</td>\n",
       "      <td>Rosberg</td>\n",
       "      <td>German</td>\n",
       "      <td>1985</td>\n",
       "    </tr>\n",
       "    <tr>\n",
       "      <th>3</th>\n",
       "      <td>4</td>\n",
       "      <td>alonso</td>\n",
       "      <td>14</td>\n",
       "      <td>ALO</td>\n",
       "      <td>Fernando</td>\n",
       "      <td>Alonso</td>\n",
       "      <td>Spanish</td>\n",
       "      <td>1981</td>\n",
       "    </tr>\n",
       "    <tr>\n",
       "      <th>4</th>\n",
       "      <td>5</td>\n",
       "      <td>kovalainen</td>\n",
       "      <td>\\N</td>\n",
       "      <td>KOV</td>\n",
       "      <td>Heikki</td>\n",
       "      <td>Kovalainen</td>\n",
       "      <td>Finnish</td>\n",
       "      <td>1981</td>\n",
       "    </tr>\n",
       "    <tr>\n",
       "      <th>...</th>\n",
       "      <td>...</td>\n",
       "      <td>...</td>\n",
       "      <td>...</td>\n",
       "      <td>...</td>\n",
       "      <td>...</td>\n",
       "      <td>...</td>\n",
       "      <td>...</td>\n",
       "      <td>...</td>\n",
       "    </tr>\n",
       "    <tr>\n",
       "      <th>849</th>\n",
       "      <td>851</td>\n",
       "      <td>aitken</td>\n",
       "      <td>89</td>\n",
       "      <td>AIT</td>\n",
       "      <td>Jack</td>\n",
       "      <td>Aitken</td>\n",
       "      <td>British</td>\n",
       "      <td>1995</td>\n",
       "    </tr>\n",
       "    <tr>\n",
       "      <th>850</th>\n",
       "      <td>852</td>\n",
       "      <td>tsunoda</td>\n",
       "      <td>22</td>\n",
       "      <td>TSU</td>\n",
       "      <td>Yuki</td>\n",
       "      <td>Tsunoda</td>\n",
       "      <td>Japanese</td>\n",
       "      <td>2000</td>\n",
       "    </tr>\n",
       "    <tr>\n",
       "      <th>851</th>\n",
       "      <td>853</td>\n",
       "      <td>mazepin</td>\n",
       "      <td>9</td>\n",
       "      <td>MAZ</td>\n",
       "      <td>Nikita</td>\n",
       "      <td>Mazepin</td>\n",
       "      <td>Russian</td>\n",
       "      <td>1999</td>\n",
       "    </tr>\n",
       "    <tr>\n",
       "      <th>852</th>\n",
       "      <td>854</td>\n",
       "      <td>mick_schumacher</td>\n",
       "      <td>47</td>\n",
       "      <td>MSC</td>\n",
       "      <td>Mick</td>\n",
       "      <td>Schumacher</td>\n",
       "      <td>German</td>\n",
       "      <td>1999</td>\n",
       "    </tr>\n",
       "    <tr>\n",
       "      <th>853</th>\n",
       "      <td>855</td>\n",
       "      <td>zhou</td>\n",
       "      <td>24</td>\n",
       "      <td>ZHO</td>\n",
       "      <td>Guanyu</td>\n",
       "      <td>Zhou</td>\n",
       "      <td>Chinese</td>\n",
       "      <td>1999</td>\n",
       "    </tr>\n",
       "  </tbody>\n",
       "</table>\n",
       "<p>854 rows × 8 columns</p>\n",
       "</div>"
      ],
      "text/plain": [
       "     driverId        driverRef number code  forename     surname nationality  \\\n",
       "0           1         hamilton     44  HAM     Lewis    Hamilton     British   \n",
       "1           2         heidfeld     \\N  HEI      Nick    Heidfeld      German   \n",
       "2           3          rosberg      6  ROS      Nico     Rosberg      German   \n",
       "3           4           alonso     14  ALO  Fernando      Alonso     Spanish   \n",
       "4           5       kovalainen     \\N  KOV    Heikki  Kovalainen     Finnish   \n",
       "..        ...              ...    ...  ...       ...         ...         ...   \n",
       "849       851           aitken     89  AIT      Jack      Aitken     British   \n",
       "850       852          tsunoda     22  TSU      Yuki     Tsunoda    Japanese   \n",
       "851       853          mazepin      9  MAZ    Nikita     Mazepin     Russian   \n",
       "852       854  mick_schumacher     47  MSC      Mick  Schumacher      German   \n",
       "853       855             zhou     24  ZHO    Guanyu        Zhou     Chinese   \n",
       "\n",
       "      yob  \n",
       "0    1985  \n",
       "1    1977  \n",
       "2    1985  \n",
       "3    1981  \n",
       "4    1981  \n",
       "..    ...  \n",
       "849  1995  \n",
       "850  2000  \n",
       "851  1999  \n",
       "852  1999  \n",
       "853  1999  \n",
       "\n",
       "[854 rows x 8 columns]"
      ]
     },
     "execution_count": 5,
     "metadata": {},
     "output_type": "execute_result"
    }
   ],
   "source": [
    "dob_drivers = drivers[\"dob\"].str.split(\"-\", n = 1, expand = True)\n",
    "\n",
    "# making separate first name column from new data frame\n",
    "drivers[\"yob\"]= dob_drivers[0]\n",
    "\n",
    "drivers.drop(columns =[\"dob\"], inplace = True)\n",
    "\n",
    "drivers"
   ]
  },
  {
   "cell_type": "markdown",
   "id": "0ab9a47d",
   "metadata": {},
   "source": [
    "Passem el tipus de dada de l'any de naixement a int i calculem la mediana, que és la variable de posició central en la columna que estem analizant. En aquest cas és 1936. Calculem també la desviació estàndard, que ens diu quanta desviació hi ha de les variables respecte la seva mitja. En aquest cas és 23'5, tenint en compte que tenim valors desde 1896 a 2000 (rang de 104 anys), és baixa i, per tant, els valors estan bastant aprop de la mitja, que és 1940'8."
   ]
  },
  {
   "cell_type": "code",
   "execution_count": 6,
   "id": "11728184",
   "metadata": {},
   "outputs": [],
   "source": [
    "drivers.yob = drivers.yob.astype('int64')"
   ]
  },
  {
   "cell_type": "code",
   "execution_count": 7,
   "id": "c885677e",
   "metadata": {},
   "outputs": [
    {
     "data": {
      "text/plain": [
       "1936.0"
      ]
     },
     "execution_count": 7,
     "metadata": {},
     "output_type": "execute_result"
    }
   ],
   "source": [
    "statistics.median(drivers[\"yob\"])"
   ]
  },
  {
   "cell_type": "code",
   "execution_count": 8,
   "id": "1d615048",
   "metadata": {},
   "outputs": [
    {
     "data": {
      "text/html": [
       "<div>\n",
       "<style scoped>\n",
       "    .dataframe tbody tr th:only-of-type {\n",
       "        vertical-align: middle;\n",
       "    }\n",
       "\n",
       "    .dataframe tbody tr th {\n",
       "        vertical-align: top;\n",
       "    }\n",
       "\n",
       "    .dataframe thead th {\n",
       "        text-align: right;\n",
       "    }\n",
       "</style>\n",
       "<table border=\"1\" class=\"dataframe\">\n",
       "  <thead>\n",
       "    <tr style=\"text-align: right;\">\n",
       "      <th></th>\n",
       "      <th>driverId</th>\n",
       "      <th>driverRef</th>\n",
       "      <th>number</th>\n",
       "      <th>code</th>\n",
       "      <th>forename</th>\n",
       "      <th>surname</th>\n",
       "      <th>nationality</th>\n",
       "      <th>yob</th>\n",
       "    </tr>\n",
       "  </thead>\n",
       "  <tbody>\n",
       "    <tr>\n",
       "      <th>count</th>\n",
       "      <td>854.000000</td>\n",
       "      <td>854</td>\n",
       "      <td>854</td>\n",
       "      <td>854</td>\n",
       "      <td>854</td>\n",
       "      <td>854</td>\n",
       "      <td>854</td>\n",
       "      <td>854.000000</td>\n",
       "    </tr>\n",
       "    <tr>\n",
       "      <th>unique</th>\n",
       "      <td>NaN</td>\n",
       "      <td>854</td>\n",
       "      <td>44</td>\n",
       "      <td>92</td>\n",
       "      <td>474</td>\n",
       "      <td>795</td>\n",
       "      <td>42</td>\n",
       "      <td>NaN</td>\n",
       "    </tr>\n",
       "    <tr>\n",
       "      <th>top</th>\n",
       "      <td>NaN</td>\n",
       "      <td>hamilton</td>\n",
       "      <td>\\N</td>\n",
       "      <td>\\N</td>\n",
       "      <td>John</td>\n",
       "      <td>Taylor</td>\n",
       "      <td>British</td>\n",
       "      <td>NaN</td>\n",
       "    </tr>\n",
       "    <tr>\n",
       "      <th>freq</th>\n",
       "      <td>NaN</td>\n",
       "      <td>1</td>\n",
       "      <td>803</td>\n",
       "      <td>757</td>\n",
       "      <td>14</td>\n",
       "      <td>5</td>\n",
       "      <td>165</td>\n",
       "      <td>NaN</td>\n",
       "    </tr>\n",
       "    <tr>\n",
       "      <th>mean</th>\n",
       "      <td>427.553864</td>\n",
       "      <td>NaN</td>\n",
       "      <td>NaN</td>\n",
       "      <td>NaN</td>\n",
       "      <td>NaN</td>\n",
       "      <td>NaN</td>\n",
       "      <td>NaN</td>\n",
       "      <td>1940.762295</td>\n",
       "    </tr>\n",
       "    <tr>\n",
       "      <th>std</th>\n",
       "      <td>246.761270</td>\n",
       "      <td>NaN</td>\n",
       "      <td>NaN</td>\n",
       "      <td>NaN</td>\n",
       "      <td>NaN</td>\n",
       "      <td>NaN</td>\n",
       "      <td>NaN</td>\n",
       "      <td>23.494449</td>\n",
       "    </tr>\n",
       "    <tr>\n",
       "      <th>min</th>\n",
       "      <td>1.000000</td>\n",
       "      <td>NaN</td>\n",
       "      <td>NaN</td>\n",
       "      <td>NaN</td>\n",
       "      <td>NaN</td>\n",
       "      <td>NaN</td>\n",
       "      <td>NaN</td>\n",
       "      <td>1896.000000</td>\n",
       "    </tr>\n",
       "    <tr>\n",
       "      <th>25%</th>\n",
       "      <td>214.250000</td>\n",
       "      <td>NaN</td>\n",
       "      <td>NaN</td>\n",
       "      <td>NaN</td>\n",
       "      <td>NaN</td>\n",
       "      <td>NaN</td>\n",
       "      <td>NaN</td>\n",
       "      <td>1922.250000</td>\n",
       "    </tr>\n",
       "    <tr>\n",
       "      <th>50%</th>\n",
       "      <td>427.500000</td>\n",
       "      <td>NaN</td>\n",
       "      <td>NaN</td>\n",
       "      <td>NaN</td>\n",
       "      <td>NaN</td>\n",
       "      <td>NaN</td>\n",
       "      <td>NaN</td>\n",
       "      <td>1936.000000</td>\n",
       "    </tr>\n",
       "    <tr>\n",
       "      <th>75%</th>\n",
       "      <td>640.750000</td>\n",
       "      <td>NaN</td>\n",
       "      <td>NaN</td>\n",
       "      <td>NaN</td>\n",
       "      <td>NaN</td>\n",
       "      <td>NaN</td>\n",
       "      <td>NaN</td>\n",
       "      <td>1956.000000</td>\n",
       "    </tr>\n",
       "    <tr>\n",
       "      <th>max</th>\n",
       "      <td>855.000000</td>\n",
       "      <td>NaN</td>\n",
       "      <td>NaN</td>\n",
       "      <td>NaN</td>\n",
       "      <td>NaN</td>\n",
       "      <td>NaN</td>\n",
       "      <td>NaN</td>\n",
       "      <td>2000.000000</td>\n",
       "    </tr>\n",
       "  </tbody>\n",
       "</table>\n",
       "</div>"
      ],
      "text/plain": [
       "          driverId driverRef number code forename surname nationality  \\\n",
       "count   854.000000       854    854  854      854     854         854   \n",
       "unique         NaN       854     44   92      474     795          42   \n",
       "top            NaN  hamilton     \\N   \\N     John  Taylor     British   \n",
       "freq           NaN         1    803  757       14       5         165   \n",
       "mean    427.553864       NaN    NaN  NaN      NaN     NaN         NaN   \n",
       "std     246.761270       NaN    NaN  NaN      NaN     NaN         NaN   \n",
       "min       1.000000       NaN    NaN  NaN      NaN     NaN         NaN   \n",
       "25%     214.250000       NaN    NaN  NaN      NaN     NaN         NaN   \n",
       "50%     427.500000       NaN    NaN  NaN      NaN     NaN         NaN   \n",
       "75%     640.750000       NaN    NaN  NaN      NaN     NaN         NaN   \n",
       "max     855.000000       NaN    NaN  NaN      NaN     NaN         NaN   \n",
       "\n",
       "                yob  \n",
       "count    854.000000  \n",
       "unique          NaN  \n",
       "top             NaN  \n",
       "freq            NaN  \n",
       "mean    1940.762295  \n",
       "std       23.494449  \n",
       "min     1896.000000  \n",
       "25%     1922.250000  \n",
       "50%     1936.000000  \n",
       "75%     1956.000000  \n",
       "max     2000.000000  "
      ]
     },
     "execution_count": 8,
     "metadata": {},
     "output_type": "execute_result"
    }
   ],
   "source": [
    "drivers.describe(include='all')"
   ]
  },
  {
   "cell_type": "code",
   "execution_count": 9,
   "id": "b6452d6d",
   "metadata": {},
   "outputs": [
    {
     "data": {
      "text/plain": [
       "23.4806898066439"
      ]
     },
     "execution_count": 9,
     "metadata": {},
     "output_type": "execute_result"
    }
   ],
   "source": [
    "statistics.pstdev(drivers[\"yob\"])"
   ]
  },
  {
   "cell_type": "code",
   "execution_count": 10,
   "id": "dae46b2e",
   "metadata": {},
   "outputs": [
    {
     "data": {
      "text/plain": [
       "2000"
      ]
     },
     "execution_count": 10,
     "metadata": {},
     "output_type": "execute_result"
    }
   ],
   "source": [
    "drivers['yob'].max()"
   ]
  },
  {
   "cell_type": "code",
   "execution_count": 11,
   "id": "dfbbd28e",
   "metadata": {},
   "outputs": [
    {
     "data": {
      "text/plain": [
       "1896"
      ]
     },
     "execution_count": 11,
     "metadata": {},
     "output_type": "execute_result"
    }
   ],
   "source": [
    "drivers['yob'].min()"
   ]
  },
  {
   "cell_type": "code",
   "execution_count": 12,
   "id": "0dddfd69",
   "metadata": {},
   "outputs": [
    {
     "data": {
      "text/plain": [
       "1940.8"
      ]
     },
     "execution_count": 12,
     "metadata": {},
     "output_type": "execute_result"
    }
   ],
   "source": [
    "round(statistics.mean(drivers[\"yob\"]),1)"
   ]
  },
  {
   "cell_type": "markdown",
   "id": "6e2b36bf",
   "metadata": {},
   "source": [
    "##*Exercice 2*##"
   ]
  },
  {
   "cell_type": "markdown",
   "id": "2e430f75",
   "metadata": {},
   "source": [
    "*Continuant amb les dades de tema esportiu, selecciona dos atributs i calcula'n la seva correlació. *"
   ]
  },
  {
   "cell_type": "code",
   "execution_count": 13,
   "id": "7da67efa",
   "metadata": {},
   "outputs": [
    {
     "data": {
      "text/html": [
       "<div>\n",
       "<style scoped>\n",
       "    .dataframe tbody tr th:only-of-type {\n",
       "        vertical-align: middle;\n",
       "    }\n",
       "\n",
       "    .dataframe tbody tr th {\n",
       "        vertical-align: top;\n",
       "    }\n",
       "\n",
       "    .dataframe thead th {\n",
       "        text-align: right;\n",
       "    }\n",
       "</style>\n",
       "<table border=\"1\" class=\"dataframe\">\n",
       "  <thead>\n",
       "    <tr style=\"text-align: right;\">\n",
       "      <th></th>\n",
       "      <th>Race</th>\n",
       "      <th>Cause</th>\n",
       "      <th>Deployed</th>\n",
       "      <th>Retreated</th>\n",
       "      <th>FullLaps</th>\n",
       "    </tr>\n",
       "  </thead>\n",
       "  <tbody>\n",
       "    <tr>\n",
       "      <th>0</th>\n",
       "      <td>1973 Canadian Grand Prix</td>\n",
       "      <td>Accident</td>\n",
       "      <td>33</td>\n",
       "      <td>39.0</td>\n",
       "      <td>5</td>\n",
       "    </tr>\n",
       "    <tr>\n",
       "      <th>1</th>\n",
       "      <td>1993 Brazilian Grand Prix</td>\n",
       "      <td>Accident/Rain</td>\n",
       "      <td>29</td>\n",
       "      <td>38.0</td>\n",
       "      <td>8</td>\n",
       "    </tr>\n",
       "    <tr>\n",
       "      <th>2</th>\n",
       "      <td>1993 British Grand Prix</td>\n",
       "      <td>Stranded car</td>\n",
       "      <td>38</td>\n",
       "      <td>40.0</td>\n",
       "      <td>1</td>\n",
       "    </tr>\n",
       "    <tr>\n",
       "      <th>3</th>\n",
       "      <td>1994 San Marino Grand Prix</td>\n",
       "      <td>Accident</td>\n",
       "      <td>1</td>\n",
       "      <td>6.0</td>\n",
       "      <td>4</td>\n",
       "    </tr>\n",
       "    <tr>\n",
       "      <th>4</th>\n",
       "      <td>1995 Belgian Grand Prix</td>\n",
       "      <td>Rain</td>\n",
       "      <td>28</td>\n",
       "      <td>33.0</td>\n",
       "      <td>4</td>\n",
       "    </tr>\n",
       "    <tr>\n",
       "      <th>...</th>\n",
       "      <td>...</td>\n",
       "      <td>...</td>\n",
       "      <td>...</td>\n",
       "      <td>...</td>\n",
       "      <td>...</td>\n",
       "    </tr>\n",
       "    <tr>\n",
       "      <th>288</th>\n",
       "      <td>2022 Saudi Arabian Grand Prix</td>\n",
       "      <td>Stranded car</td>\n",
       "      <td>16</td>\n",
       "      <td>21.0</td>\n",
       "      <td>4</td>\n",
       "    </tr>\n",
       "    <tr>\n",
       "      <th>289</th>\n",
       "      <td>2022 Australian Grand Prix</td>\n",
       "      <td>Stranded car</td>\n",
       "      <td>4</td>\n",
       "      <td>7.0</td>\n",
       "      <td>2</td>\n",
       "    </tr>\n",
       "    <tr>\n",
       "      <th>290</th>\n",
       "      <td>2022 Australian Grand Prix</td>\n",
       "      <td>Stranded car</td>\n",
       "      <td>24</td>\n",
       "      <td>27.0</td>\n",
       "      <td>3</td>\n",
       "    </tr>\n",
       "    <tr>\n",
       "      <th>291</th>\n",
       "      <td>2022 Emilia Romagna Grand Prix</td>\n",
       "      <td>Stranded car</td>\n",
       "      <td>1</td>\n",
       "      <td>5.0</td>\n",
       "      <td>4</td>\n",
       "    </tr>\n",
       "    <tr>\n",
       "      <th>292</th>\n",
       "      <td>2022 Miami Grand Prix</td>\n",
       "      <td>Stranded car</td>\n",
       "      <td>40</td>\n",
       "      <td>47.0</td>\n",
       "      <td>6</td>\n",
       "    </tr>\n",
       "  </tbody>\n",
       "</table>\n",
       "<p>293 rows × 5 columns</p>\n",
       "</div>"
      ],
      "text/plain": [
       "                               Race          Cause  Deployed  Retreated  \\\n",
       "0          1973 Canadian Grand Prix       Accident        33       39.0   \n",
       "1         1993 Brazilian Grand Prix  Accident/Rain        29       38.0   \n",
       "2           1993 British Grand Prix   Stranded car        38       40.0   \n",
       "3        1994 San Marino Grand Prix       Accident         1        6.0   \n",
       "4           1995 Belgian Grand Prix           Rain        28       33.0   \n",
       "..                              ...            ...       ...        ...   \n",
       "288   2022 Saudi Arabian Grand Prix   Stranded car        16       21.0   \n",
       "289      2022 Australian Grand Prix   Stranded car         4        7.0   \n",
       "290      2022 Australian Grand Prix   Stranded car        24       27.0   \n",
       "291  2022 Emilia Romagna Grand Prix   Stranded car         1        5.0   \n",
       "292           2022 Miami Grand Prix   Stranded car        40       47.0   \n",
       "\n",
       "     FullLaps  \n",
       "0           5  \n",
       "1           8  \n",
       "2           1  \n",
       "3           4  \n",
       "4           4  \n",
       "..        ...  \n",
       "288         4  \n",
       "289         2  \n",
       "290         3  \n",
       "291         4  \n",
       "292         6  \n",
       "\n",
       "[293 rows x 5 columns]"
      ]
     },
     "execution_count": 13,
     "metadata": {},
     "output_type": "execute_result"
    }
   ],
   "source": [
    "safetycar = pd.read_csv(r'C:\\Users\\Pereira\\Documents\\IT Academy\\S06T01\\safety_cars.csv', sep = ',', encoding = 'utf-8')\n",
    "safetycar"
   ]
  },
  {
   "cell_type": "markdown",
   "id": "ad5d941d",
   "metadata": {},
   "source": [
    "En aquest cas faig servir un altre dataset també relacionat amb la F1 però que conté més valors numèrics. Amb l'altre dataset no podia fer el càlcul de correlació entre dos atributs.\n",
    "El dataset sobre els cotxes de seguretat que han sortit a cada cursa conté 5 columnes: el nom i any de la cursa en qüestió, la causa del cotxe de seguretat, la volta en la que va sortir, la volta en la que va entrar i el número de voltes que va fer. \n",
    "Esborrem els valors NaN del dataset."
   ]
  },
  {
   "cell_type": "code",
   "execution_count": 14,
   "id": "9af4961a",
   "metadata": {},
   "outputs": [
    {
     "data": {
      "text/html": [
       "<div>\n",
       "<style scoped>\n",
       "    .dataframe tbody tr th:only-of-type {\n",
       "        vertical-align: middle;\n",
       "    }\n",
       "\n",
       "    .dataframe tbody tr th {\n",
       "        vertical-align: top;\n",
       "    }\n",
       "\n",
       "    .dataframe thead th {\n",
       "        text-align: right;\n",
       "    }\n",
       "</style>\n",
       "<table border=\"1\" class=\"dataframe\">\n",
       "  <thead>\n",
       "    <tr style=\"text-align: right;\">\n",
       "      <th></th>\n",
       "      <th>Race</th>\n",
       "      <th>Cause</th>\n",
       "      <th>Deployed</th>\n",
       "      <th>Retreated</th>\n",
       "      <th>FullLaps</th>\n",
       "    </tr>\n",
       "  </thead>\n",
       "  <tbody>\n",
       "    <tr>\n",
       "      <th>0</th>\n",
       "      <td>1973 Canadian Grand Prix</td>\n",
       "      <td>Accident</td>\n",
       "      <td>33</td>\n",
       "      <td>39.0</td>\n",
       "      <td>5</td>\n",
       "    </tr>\n",
       "    <tr>\n",
       "      <th>1</th>\n",
       "      <td>1993 Brazilian Grand Prix</td>\n",
       "      <td>Accident/Rain</td>\n",
       "      <td>29</td>\n",
       "      <td>38.0</td>\n",
       "      <td>8</td>\n",
       "    </tr>\n",
       "    <tr>\n",
       "      <th>2</th>\n",
       "      <td>1993 British Grand Prix</td>\n",
       "      <td>Stranded car</td>\n",
       "      <td>38</td>\n",
       "      <td>40.0</td>\n",
       "      <td>1</td>\n",
       "    </tr>\n",
       "    <tr>\n",
       "      <th>3</th>\n",
       "      <td>1994 San Marino Grand Prix</td>\n",
       "      <td>Accident</td>\n",
       "      <td>1</td>\n",
       "      <td>6.0</td>\n",
       "      <td>4</td>\n",
       "    </tr>\n",
       "    <tr>\n",
       "      <th>4</th>\n",
       "      <td>1995 Belgian Grand Prix</td>\n",
       "      <td>Rain</td>\n",
       "      <td>28</td>\n",
       "      <td>33.0</td>\n",
       "      <td>4</td>\n",
       "    </tr>\n",
       "    <tr>\n",
       "      <th>...</th>\n",
       "      <td>...</td>\n",
       "      <td>...</td>\n",
       "      <td>...</td>\n",
       "      <td>...</td>\n",
       "      <td>...</td>\n",
       "    </tr>\n",
       "    <tr>\n",
       "      <th>288</th>\n",
       "      <td>2022 Saudi Arabian Grand Prix</td>\n",
       "      <td>Stranded car</td>\n",
       "      <td>16</td>\n",
       "      <td>21.0</td>\n",
       "      <td>4</td>\n",
       "    </tr>\n",
       "    <tr>\n",
       "      <th>289</th>\n",
       "      <td>2022 Australian Grand Prix</td>\n",
       "      <td>Stranded car</td>\n",
       "      <td>4</td>\n",
       "      <td>7.0</td>\n",
       "      <td>2</td>\n",
       "    </tr>\n",
       "    <tr>\n",
       "      <th>290</th>\n",
       "      <td>2022 Australian Grand Prix</td>\n",
       "      <td>Stranded car</td>\n",
       "      <td>24</td>\n",
       "      <td>27.0</td>\n",
       "      <td>3</td>\n",
       "    </tr>\n",
       "    <tr>\n",
       "      <th>291</th>\n",
       "      <td>2022 Emilia Romagna Grand Prix</td>\n",
       "      <td>Stranded car</td>\n",
       "      <td>1</td>\n",
       "      <td>5.0</td>\n",
       "      <td>4</td>\n",
       "    </tr>\n",
       "    <tr>\n",
       "      <th>292</th>\n",
       "      <td>2022 Miami Grand Prix</td>\n",
       "      <td>Stranded car</td>\n",
       "      <td>40</td>\n",
       "      <td>47.0</td>\n",
       "      <td>6</td>\n",
       "    </tr>\n",
       "  </tbody>\n",
       "</table>\n",
       "<p>281 rows × 5 columns</p>\n",
       "</div>"
      ],
      "text/plain": [
       "                               Race          Cause  Deployed  Retreated  \\\n",
       "0          1973 Canadian Grand Prix       Accident        33       39.0   \n",
       "1         1993 Brazilian Grand Prix  Accident/Rain        29       38.0   \n",
       "2           1993 British Grand Prix   Stranded car        38       40.0   \n",
       "3        1994 San Marino Grand Prix       Accident         1        6.0   \n",
       "4           1995 Belgian Grand Prix           Rain        28       33.0   \n",
       "..                              ...            ...       ...        ...   \n",
       "288   2022 Saudi Arabian Grand Prix   Stranded car        16       21.0   \n",
       "289      2022 Australian Grand Prix   Stranded car         4        7.0   \n",
       "290      2022 Australian Grand Prix   Stranded car        24       27.0   \n",
       "291  2022 Emilia Romagna Grand Prix   Stranded car         1        5.0   \n",
       "292           2022 Miami Grand Prix   Stranded car        40       47.0   \n",
       "\n",
       "     FullLaps  \n",
       "0           5  \n",
       "1           8  \n",
       "2           1  \n",
       "3           4  \n",
       "4           4  \n",
       "..        ...  \n",
       "288         4  \n",
       "289         2  \n",
       "290         3  \n",
       "291         4  \n",
       "292         6  \n",
       "\n",
       "[281 rows x 5 columns]"
      ]
     },
     "execution_count": 14,
     "metadata": {},
     "output_type": "execute_result"
    }
   ],
   "source": [
    "safetycar = safetycar.dropna()\n",
    "safetycar"
   ]
  },
  {
   "cell_type": "markdown",
   "id": "e8d9189e",
   "metadata": {},
   "source": [
    "Passem els valors de volta on va sortir el cotxe de seguretat i el de número de voltes a int."
   ]
  },
  {
   "cell_type": "code",
   "execution_count": 15,
   "id": "4d6c447c",
   "metadata": {},
   "outputs": [
    {
     "name": "stderr",
     "output_type": "stream",
     "text": [
      "C:\\Users\\Pereira\\anaconda3\\lib\\site-packages\\pandas\\core\\generic.py:5516: SettingWithCopyWarning: \n",
      "A value is trying to be set on a copy of a slice from a DataFrame.\n",
      "Try using .loc[row_indexer,col_indexer] = value instead\n",
      "\n",
      "See the caveats in the documentation: https://pandas.pydata.org/pandas-docs/stable/user_guide/indexing.html#returning-a-view-versus-a-copy\n",
      "  self[name] = value\n"
     ]
    }
   ],
   "source": [
    "safetycar.Deployed = safetycar['Deployed'].astype('int')"
   ]
  },
  {
   "cell_type": "code",
   "execution_count": 16,
   "id": "02537287",
   "metadata": {},
   "outputs": [],
   "source": [
    "safetycar.FullLaps = safetycar['FullLaps'].astype('int')"
   ]
  },
  {
   "cell_type": "code",
   "execution_count": 17,
   "id": "a13c8cd9",
   "metadata": {},
   "outputs": [
    {
     "data": {
      "text/plain": [
       "Race          object\n",
       "Cause         object\n",
       "Deployed       int32\n",
       "Retreated    float64\n",
       "FullLaps       int32\n",
       "dtype: object"
      ]
     },
     "execution_count": 17,
     "metadata": {},
     "output_type": "execute_result"
    }
   ],
   "source": [
    "safetycar.dtypes"
   ]
  },
  {
   "cell_type": "markdown",
   "id": "96665f92",
   "metadata": {},
   "source": [
    "Calculem el valor de la correlació entre els atributs volta en la que va sortir i número de voltes fetes pel cotxe de seguretat. En aquest cas és de 0'12, una correlació molt petita."
   ]
  },
  {
   "cell_type": "code",
   "execution_count": 18,
   "id": "dd6f6a16",
   "metadata": {},
   "outputs": [
    {
     "name": "stdout",
     "output_type": "stream",
     "text": [
      "[[1.         0.12110136]\n",
      " [0.12110136 1.        ]]\n"
     ]
    }
   ],
   "source": [
    "r = np.corrcoef(safetycar['Deployed'], safetycar['FullLaps'])\n",
    "print(r)"
   ]
  },
  {
   "cell_type": "markdown",
   "id": "fb966a14",
   "metadata": {},
   "source": [
    "Extreiem l'any de la cursa i l'adjuntem en una altra columna. Fem la correlació entre l'any de la cursa i el número de voltes que va fer el cotxe de seguretat. En aquest cas és una correlació negativa i molt baixa, de -0'007. Això ens diu que ambdues variables van en direcció oposada."
   ]
  },
  {
   "cell_type": "code",
   "execution_count": 19,
   "id": "fc66767c",
   "metadata": {},
   "outputs": [
    {
     "name": "stderr",
     "output_type": "stream",
     "text": [
      "C:\\Users\\Pereira\\AppData\\Local\\Temp/ipykernel_23660/3171262212.py:4: SettingWithCopyWarning: \n",
      "A value is trying to be set on a copy of a slice from a DataFrame.\n",
      "Try using .loc[row_indexer,col_indexer] = value instead\n",
      "\n",
      "See the caveats in the documentation: https://pandas.pydata.org/pandas-docs/stable/user_guide/indexing.html#returning-a-view-versus-a-copy\n",
      "  safetycar[\"year\"]= sc_per_year[0]\n",
      "C:\\Users\\Pereira\\AppData\\Local\\Temp/ipykernel_23660/3171262212.py:6: SettingWithCopyWarning: \n",
      "A value is trying to be set on a copy of a slice from a DataFrame.\n",
      "Try using .loc[row_indexer,col_indexer] = value instead\n",
      "\n",
      "See the caveats in the documentation: https://pandas.pydata.org/pandas-docs/stable/user_guide/indexing.html#returning-a-view-versus-a-copy\n",
      "  safetycar[\"race\"]= sc_per_year[1]\n",
      "C:\\Users\\Pereira\\anaconda3\\lib\\site-packages\\pandas\\core\\frame.py:4906: SettingWithCopyWarning: \n",
      "A value is trying to be set on a copy of a slice from a DataFrame\n",
      "\n",
      "See the caveats in the documentation: https://pandas.pydata.org/pandas-docs/stable/user_guide/indexing.html#returning-a-view-versus-a-copy\n",
      "  return super().drop(\n"
     ]
    },
    {
     "data": {
      "text/html": [
       "<div>\n",
       "<style scoped>\n",
       "    .dataframe tbody tr th:only-of-type {\n",
       "        vertical-align: middle;\n",
       "    }\n",
       "\n",
       "    .dataframe tbody tr th {\n",
       "        vertical-align: top;\n",
       "    }\n",
       "\n",
       "    .dataframe thead th {\n",
       "        text-align: right;\n",
       "    }\n",
       "</style>\n",
       "<table border=\"1\" class=\"dataframe\">\n",
       "  <thead>\n",
       "    <tr style=\"text-align: right;\">\n",
       "      <th></th>\n",
       "      <th>Cause</th>\n",
       "      <th>Deployed</th>\n",
       "      <th>Retreated</th>\n",
       "      <th>FullLaps</th>\n",
       "      <th>year</th>\n",
       "      <th>race</th>\n",
       "    </tr>\n",
       "  </thead>\n",
       "  <tbody>\n",
       "    <tr>\n",
       "      <th>0</th>\n",
       "      <td>Accident</td>\n",
       "      <td>33</td>\n",
       "      <td>39.0</td>\n",
       "      <td>5</td>\n",
       "      <td>1973</td>\n",
       "      <td>Canadian</td>\n",
       "    </tr>\n",
       "    <tr>\n",
       "      <th>1</th>\n",
       "      <td>Accident/Rain</td>\n",
       "      <td>29</td>\n",
       "      <td>38.0</td>\n",
       "      <td>8</td>\n",
       "      <td>1993</td>\n",
       "      <td>Brazilian</td>\n",
       "    </tr>\n",
       "    <tr>\n",
       "      <th>2</th>\n",
       "      <td>Stranded car</td>\n",
       "      <td>38</td>\n",
       "      <td>40.0</td>\n",
       "      <td>1</td>\n",
       "      <td>1993</td>\n",
       "      <td>British</td>\n",
       "    </tr>\n",
       "    <tr>\n",
       "      <th>3</th>\n",
       "      <td>Accident</td>\n",
       "      <td>1</td>\n",
       "      <td>6.0</td>\n",
       "      <td>4</td>\n",
       "      <td>1994</td>\n",
       "      <td>San</td>\n",
       "    </tr>\n",
       "    <tr>\n",
       "      <th>4</th>\n",
       "      <td>Rain</td>\n",
       "      <td>28</td>\n",
       "      <td>33.0</td>\n",
       "      <td>4</td>\n",
       "      <td>1995</td>\n",
       "      <td>Belgian</td>\n",
       "    </tr>\n",
       "    <tr>\n",
       "      <th>...</th>\n",
       "      <td>...</td>\n",
       "      <td>...</td>\n",
       "      <td>...</td>\n",
       "      <td>...</td>\n",
       "      <td>...</td>\n",
       "      <td>...</td>\n",
       "    </tr>\n",
       "    <tr>\n",
       "      <th>288</th>\n",
       "      <td>Stranded car</td>\n",
       "      <td>16</td>\n",
       "      <td>21.0</td>\n",
       "      <td>4</td>\n",
       "      <td>2022</td>\n",
       "      <td>Saudi</td>\n",
       "    </tr>\n",
       "    <tr>\n",
       "      <th>289</th>\n",
       "      <td>Stranded car</td>\n",
       "      <td>4</td>\n",
       "      <td>7.0</td>\n",
       "      <td>2</td>\n",
       "      <td>2022</td>\n",
       "      <td>Australian</td>\n",
       "    </tr>\n",
       "    <tr>\n",
       "      <th>290</th>\n",
       "      <td>Stranded car</td>\n",
       "      <td>24</td>\n",
       "      <td>27.0</td>\n",
       "      <td>3</td>\n",
       "      <td>2022</td>\n",
       "      <td>Australian</td>\n",
       "    </tr>\n",
       "    <tr>\n",
       "      <th>291</th>\n",
       "      <td>Stranded car</td>\n",
       "      <td>1</td>\n",
       "      <td>5.0</td>\n",
       "      <td>4</td>\n",
       "      <td>2022</td>\n",
       "      <td>Emilia</td>\n",
       "    </tr>\n",
       "    <tr>\n",
       "      <th>292</th>\n",
       "      <td>Stranded car</td>\n",
       "      <td>40</td>\n",
       "      <td>47.0</td>\n",
       "      <td>6</td>\n",
       "      <td>2022</td>\n",
       "      <td>Miami</td>\n",
       "    </tr>\n",
       "  </tbody>\n",
       "</table>\n",
       "<p>281 rows × 6 columns</p>\n",
       "</div>"
      ],
      "text/plain": [
       "             Cause  Deployed  Retreated  FullLaps  year        race\n",
       "0         Accident        33       39.0         5  1973    Canadian\n",
       "1    Accident/Rain        29       38.0         8  1993   Brazilian\n",
       "2     Stranded car        38       40.0         1  1993     British\n",
       "3         Accident         1        6.0         4  1994         San\n",
       "4             Rain        28       33.0         4  1995     Belgian\n",
       "..             ...       ...        ...       ...   ...         ...\n",
       "288   Stranded car        16       21.0         4  2022       Saudi\n",
       "289   Stranded car         4        7.0         2  2022  Australian\n",
       "290   Stranded car        24       27.0         3  2022  Australian\n",
       "291   Stranded car         1        5.0         4  2022      Emilia\n",
       "292   Stranded car        40       47.0         6  2022       Miami\n",
       "\n",
       "[281 rows x 6 columns]"
      ]
     },
     "execution_count": 19,
     "metadata": {},
     "output_type": "execute_result"
    }
   ],
   "source": [
    "sc_per_year = safetycar[\"Race\"].str.split(\" \", n = 2, expand = True)\n",
    "\n",
    "# making separate first name column from new data frame\n",
    "safetycar[\"year\"]= sc_per_year[0]\n",
    "\n",
    "safetycar[\"race\"]= sc_per_year[1]\n",
    "\n",
    "safetycar.drop(columns =[\"Race\"], inplace = True)\n",
    "\n",
    "# df display\n",
    "safetycar"
   ]
  },
  {
   "cell_type": "code",
   "execution_count": 20,
   "id": "119f4c30",
   "metadata": {},
   "outputs": [
    {
     "name": "stderr",
     "output_type": "stream",
     "text": [
      "C:\\Users\\Pereira\\anaconda3\\lib\\site-packages\\pandas\\core\\generic.py:5516: SettingWithCopyWarning: \n",
      "A value is trying to be set on a copy of a slice from a DataFrame.\n",
      "Try using .loc[row_indexer,col_indexer] = value instead\n",
      "\n",
      "See the caveats in the documentation: https://pandas.pydata.org/pandas-docs/stable/user_guide/indexing.html#returning-a-view-versus-a-copy\n",
      "  self[name] = value\n"
     ]
    }
   ],
   "source": [
    "safetycar.year = safetycar['year'].astype('int')"
   ]
  },
  {
   "cell_type": "code",
   "execution_count": 21,
   "id": "ad87c055",
   "metadata": {},
   "outputs": [
    {
     "data": {
      "text/plain": [
       "Cause         object\n",
       "Deployed       int32\n",
       "Retreated    float64\n",
       "FullLaps       int32\n",
       "year           int32\n",
       "race          object\n",
       "dtype: object"
      ]
     },
     "execution_count": 21,
     "metadata": {},
     "output_type": "execute_result"
    }
   ],
   "source": [
    "safetycar.dtypes"
   ]
  },
  {
   "cell_type": "code",
   "execution_count": 22,
   "id": "4f489f4d",
   "metadata": {},
   "outputs": [
    {
     "name": "stdout",
     "output_type": "stream",
     "text": [
      "[[ 1.         -0.00709253]\n",
      " [-0.00709253  1.        ]]\n"
     ]
    }
   ],
   "source": [
    "r2 = np.corrcoef(safetycar['year'], safetycar['FullLaps'])\n",
    "print(r2)"
   ]
  },
  {
   "cell_type": "markdown",
   "id": "af3b567a",
   "metadata": {},
   "source": [
    "##*Exercice 3*##"
   ]
  },
  {
   "cell_type": "markdown",
   "id": "d799aa6a",
   "metadata": {},
   "source": [
    "*Continuant amb les dades de tema esportiu, calcula la correlació de tots els atributs entre sí i representa'ls en una matriu amb diferents colors d'intensitat.*"
   ]
  },
  {
   "cell_type": "code",
   "execution_count": 23,
   "id": "03005981",
   "metadata": {},
   "outputs": [
    {
     "data": {
      "text/html": [
       "<div>\n",
       "<style scoped>\n",
       "    .dataframe tbody tr th:only-of-type {\n",
       "        vertical-align: middle;\n",
       "    }\n",
       "\n",
       "    .dataframe tbody tr th {\n",
       "        vertical-align: top;\n",
       "    }\n",
       "\n",
       "    .dataframe thead th {\n",
       "        text-align: right;\n",
       "    }\n",
       "</style>\n",
       "<table border=\"1\" class=\"dataframe\">\n",
       "  <thead>\n",
       "    <tr style=\"text-align: right;\">\n",
       "      <th></th>\n",
       "      <th>Deployed</th>\n",
       "      <th>Retreated</th>\n",
       "      <th>FullLaps</th>\n",
       "      <th>year</th>\n",
       "    </tr>\n",
       "  </thead>\n",
       "  <tbody>\n",
       "    <tr>\n",
       "      <th>Deployed</th>\n",
       "      <td>1.000000</td>\n",
       "      <td>0.993213</td>\n",
       "      <td>0.121101</td>\n",
       "      <td>0.085883</td>\n",
       "    </tr>\n",
       "    <tr>\n",
       "      <th>Retreated</th>\n",
       "      <td>0.993213</td>\n",
       "      <td>1.000000</td>\n",
       "      <td>0.234733</td>\n",
       "      <td>0.082983</td>\n",
       "    </tr>\n",
       "    <tr>\n",
       "      <th>FullLaps</th>\n",
       "      <td>0.121101</td>\n",
       "      <td>0.234733</td>\n",
       "      <td>1.000000</td>\n",
       "      <td>-0.007093</td>\n",
       "    </tr>\n",
       "    <tr>\n",
       "      <th>year</th>\n",
       "      <td>0.085883</td>\n",
       "      <td>0.082983</td>\n",
       "      <td>-0.007093</td>\n",
       "      <td>1.000000</td>\n",
       "    </tr>\n",
       "  </tbody>\n",
       "</table>\n",
       "</div>"
      ],
      "text/plain": [
       "           Deployed  Retreated  FullLaps      year\n",
       "Deployed   1.000000   0.993213  0.121101  0.085883\n",
       "Retreated  0.993213   1.000000  0.234733  0.082983\n",
       "FullLaps   0.121101   0.234733  1.000000 -0.007093\n",
       "year       0.085883   0.082983 -0.007093  1.000000"
      ]
     },
     "execution_count": 23,
     "metadata": {},
     "output_type": "execute_result"
    }
   ],
   "source": [
    "safetycar.corr()"
   ]
  },
  {
   "cell_type": "markdown",
   "id": "ec37b11c",
   "metadata": {},
   "source": [
    "Fem servir la funció corr() per extreure una taula amb tots els valors de correlació entre atributs numèrics del dataframe."
   ]
  },
  {
   "cell_type": "code",
   "execution_count": 25,
   "id": "22498867",
   "metadata": {},
   "outputs": [
    {
     "data": {
      "text/plain": [
       "<AxesSubplot:>"
      ]
     },
     "execution_count": 25,
     "metadata": {},
     "output_type": "execute_result"
    },
    {
     "data": {
      "image/png": "[encoded data removed]",
      "text/plain": [
       "<Figure size 432x288 with 2 Axes>"
      ]
     },
     "metadata": {
      "needs_background": "light"
     },
     "output_type": "display_data"
    }
   ],
   "source": [
    "cmap = sns.diverging_palette(10, 220, as_cmap=True)\n",
    "sns.heatmap(corr, vmin=-1.0, vmax=1.0, square=True, cmap=cmap)"
   ]
  },
  {
   "cell_type": "markdown",
   "id": "ce994c50",
   "metadata": {},
   "source": [
    "Amb una matriu amb diferents colors d'intensitat, visualitzem la correlació entre atributs. El blau més intens ens indica correlació intensa i al revés. Veiem la correlació entre \"full laps\" i \"year\" que és vermell molt poc intens, això ens indica que la correlació és negativa, però molt poc intensa."
   ]
  },
  {
   "cell_type": "markdown",
   "id": "69c569e8",
   "metadata": {},
   "source": [
    "He creat aquesta graella de gràfics per mostrar la correlació entre parells d'atributs. Els scatter graphs amb una diagonal fortament marcada vol dir que les variables estàn molt correlacionades (per exemple, \"deployed\" i \"retreated\"). Si hi han verticals o horitzontals (en quasi tots els demés) indica correlació baixa."
   ]
  },
  {
   "cell_type": "code",
   "execution_count": 26,
   "id": "7e5eb9cb",
   "metadata": {},
   "outputs": [
    {
     "data": {
      "image/png": "[encoded data removed]",
      "text/plain": [
       "<Figure size 1152x1152 with 16 Axes>"
      ]
     },
     "metadata": {
      "needs_background": "light"
     },
     "output_type": "display_data"
    }
   ],
   "source": [
    "a = scatter_matrix(safetycar, figsize=(16, 16))"
   ]
  },
  {
   "cell_type": "markdown",
   "id": "42c6e419",
   "metadata": {},
   "source": [
    "També he creat un mapa de calor amb totes les variables i la seva correlació. Veiem la diagonal d'1 ja que és on es creuen les variables iguals."
   ]
  },
  {
   "cell_type": "code",
   "execution_count": 27,
   "id": "425a1667",
   "metadata": {},
   "outputs": [
    {
     "data": {
      "image/png": "[encoded data removed]",
      "text/plain": [
       "<Figure size 1440x864 with 2 Axes>"
      ]
     },
     "metadata": {
      "needs_background": "light"
     },
     "output_type": "display_data"
    }
   ],
   "source": [
    "# Increase the size of the heatmap.\n",
    "plt.figure(figsize=(20, 12))\n",
    "# Store heatmap object in a variable to easily access it when you want to include more features (such as title).\n",
    "# Set the range of values to be displayed on the colormap from -1 to 1, and set the annotation to True to display the correlation values on the heatmap.\n",
    "heatmap = sns.heatmap(safetycar.corr(), vmin=-1, vmax=1, annot=True)\n",
    "# Give a title to the heatmap. Pad defines the distance of the title from the top of the heatmap.\n",
    "heatmap.set_title('Correlation Heatmap', fontdict={'fontsize':12}, pad=12);"
   ]
  },
  {
   "cell_type": "markdown",
   "id": "72e5de87",
   "metadata": {},
   "source": [
    "##*Exercice 4*##"
   ]
  },
  {
   "cell_type": "markdown",
   "id": "7b30d5c3",
   "metadata": {},
   "source": [
    "*Continuant amb les dades de tema esportiu, selecciona un atribut i calcula la mitjana geomètrica i la mitjana harmònica.*"
   ]
  },
  {
   "cell_type": "markdown",
   "id": "ac58251f",
   "metadata": {},
   "source": [
    "Fem servir les funcions gmean i hmean per calcular les mitjanes geomètriques i harmòniques de una variable de cada dataframe."
   ]
  },
  {
   "cell_type": "code",
   "execution_count": 30,
   "id": "4c370242",
   "metadata": {},
   "outputs": [
    {
     "data": {
      "text/plain": [
       "2011.025278272769"
      ]
     },
     "execution_count": 30,
     "metadata": {},
     "output_type": "execute_result"
    }
   ],
   "source": [
    "scipy.stats.gmean(safetycar.loc[:,\"year\"])"
   ]
  },
  {
   "cell_type": "code",
   "execution_count": 31,
   "id": "f9c90c9a",
   "metadata": {},
   "outputs": [
    {
     "data": {
      "text/plain": [
       "1940.6208990035964"
      ]
     },
     "execution_count": 31,
     "metadata": {},
     "output_type": "execute_result"
    }
   ],
   "source": [
    "scipy.stats.gmean(drivers.loc[:,\"yob\"])"
   ]
  },
  {
   "cell_type": "code",
   "execution_count": 32,
   "id": "d6e8e6b9",
   "metadata": {},
   "outputs": [
    {
     "data": {
      "text/plain": [
       "2011.0113833140895"
      ]
     },
     "execution_count": 32,
     "metadata": {},
     "output_type": "execute_result"
    }
   ],
   "source": [
    "scipy.stats.hmean(safetycar.loc[:,\"year\"])"
   ]
  },
  {
   "cell_type": "code",
   "execution_count": 33,
   "id": "304b329e",
   "metadata": {},
   "outputs": [
    {
     "data": {
      "text/plain": [
       "1940.4801491601916"
      ]
     },
     "execution_count": 33,
     "metadata": {},
     "output_type": "execute_result"
    }
   ],
   "source": [
    "scipy.stats.hmean(drivers.loc[:,\"yob\"])"
   ]
  }
 ],
 "metadata": {
  "kernelspec": {
   "display_name": "Python 3 (ipykernel)",
   "language": "python",
   "name": "python3"
  },
  "language_info": {
   "codemirror_mode": {
    "name": "ipython",
    "version": 3
   },
   "file_extension": ".py",
   "mimetype": "text/x-python",
   "name": "python",
   "nbconvert_exporter": "python",
   "pygments_lexer": "ipython3",
   "version": "3.9.7"
  }
 },
 "nbformat": 4,
 "nbformat_minor": 5
}
